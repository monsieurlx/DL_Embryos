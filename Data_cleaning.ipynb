{
 "cells": [
  {
   "cell_type": "code",
   "execution_count": 1,
   "metadata": {},
   "outputs": [],
   "source": [
    "import pandas as pd"
   ]
  },
  {
   "cell_type": "code",
   "execution_count": 2,
   "metadata": {},
   "outputs": [],
   "source": [
    "df = pd.read_excel('imagelist120818.xlsx')"
   ]
  },
  {
   "cell_type": "code",
   "execution_count": 3,
   "metadata": {},
   "outputs": [
    {
     "data": {
      "text/html": [
       "<div>\n",
       "<style scoped>\n",
       "    .dataframe tbody tr th:only-of-type {\n",
       "        vertical-align: middle;\n",
       "    }\n",
       "\n",
       "    .dataframe tbody tr th {\n",
       "        vertical-align: top;\n",
       "    }\n",
       "\n",
       "    .dataframe thead th {\n",
       "        text-align: right;\n",
       "    }\n",
       "</style>\n",
       "<table border=\"1\" class=\"dataframe\">\n",
       "  <thead>\n",
       "    <tr style=\"text-align: right;\">\n",
       "      <th></th>\n",
       "      <th>Filename</th>\n",
       "      <th>Date</th>\n",
       "      <th>Line</th>\n",
       "      <th>Collected</th>\n",
       "      <th>Retrieved</th>\n",
       "      <th>TempRoom</th>\n",
       "      <th>Plate</th>\n",
       "      <th>Egg</th>\n",
       "      <th>EggNo</th>\n",
       "      <th>Stand</th>\n",
       "      <th>ViewPoint</th>\n",
       "      <th>Light</th>\n",
       "      <th>Position</th>\n",
       "      <th>State</th>\n",
       "    </tr>\n",
       "  </thead>\n",
       "  <tbody>\n",
       "    <tr>\n",
       "      <th>0</th>\n",
       "      <td>Images24Jul2018\\Images24Jul\\Picture\\A003 - 201...</td>\n",
       "      <td>\"24/07/2018\"</td>\n",
       "      <td>A. melanoorus R5km399</td>\n",
       "      <td>\"07/2018\"</td>\n",
       "      <td>\"24/07/2018\"</td>\n",
       "      <td>24.5</td>\n",
       "      <td>1.0</td>\n",
       "      <td>1.0</td>\n",
       "      <td>1.0</td>\n",
       "      <td>LEGO</td>\n",
       "      <td>Dorsal</td>\n",
       "      <td>Day</td>\n",
       "      <td>OK</td>\n",
       "      <td>2</td>\n",
       "    </tr>\n",
       "    <tr>\n",
       "      <th>1</th>\n",
       "      <td>Images24Jul2018\\Images24Jul\\Picture\\A004 - 201...</td>\n",
       "      <td>\"24/07/2018\"</td>\n",
       "      <td>A. melanoorus R5km399</td>\n",
       "      <td>\"07/2018\"</td>\n",
       "      <td>\"24/07/2018\"</td>\n",
       "      <td>24.5</td>\n",
       "      <td>1.0</td>\n",
       "      <td>2.0</td>\n",
       "      <td>2.0</td>\n",
       "      <td>LEGO</td>\n",
       "      <td>Dorsal</td>\n",
       "      <td>Day</td>\n",
       "      <td>OK</td>\n",
       "      <td>1</td>\n",
       "    </tr>\n",
       "    <tr>\n",
       "      <th>2</th>\n",
       "      <td>Images24Jul2018\\Images24Jul\\Picture\\A005 - 201...</td>\n",
       "      <td>\"24/07/2018\"</td>\n",
       "      <td>A. melanoorus R5km399</td>\n",
       "      <td>\"07/2018\"</td>\n",
       "      <td>\"24/07/2018\"</td>\n",
       "      <td>24.5</td>\n",
       "      <td>1.0</td>\n",
       "      <td>3.0</td>\n",
       "      <td>3.0</td>\n",
       "      <td>LEGO</td>\n",
       "      <td>Dorsal</td>\n",
       "      <td>Day</td>\n",
       "      <td>OK</td>\n",
       "      <td>1</td>\n",
       "    </tr>\n",
       "    <tr>\n",
       "      <th>3</th>\n",
       "      <td>Images24Jul2018\\Images24Jul\\Picture\\A006 - 201...</td>\n",
       "      <td>\"24/07/2018\"</td>\n",
       "      <td>A. melanoorus R5km399</td>\n",
       "      <td>\"07/2018\"</td>\n",
       "      <td>\"24/07/2018\"</td>\n",
       "      <td>24.5</td>\n",
       "      <td>1.0</td>\n",
       "      <td>4.0</td>\n",
       "      <td>4.0</td>\n",
       "      <td>LEGO</td>\n",
       "      <td>Dorsal</td>\n",
       "      <td>Day</td>\n",
       "      <td>OK</td>\n",
       "      <td>F</td>\n",
       "    </tr>\n",
       "    <tr>\n",
       "      <th>4</th>\n",
       "      <td>Images24Jul2018\\Images24Jul\\Picture\\A007 - 201...</td>\n",
       "      <td>\"24/07/2018\"</td>\n",
       "      <td>A. melanoorus R5km399</td>\n",
       "      <td>\"07/2018\"</td>\n",
       "      <td>\"24/07/2018\"</td>\n",
       "      <td>24.5</td>\n",
       "      <td>1.0</td>\n",
       "      <td>5.0</td>\n",
       "      <td>5.0</td>\n",
       "      <td>LEGO</td>\n",
       "      <td>Dorsal</td>\n",
       "      <td>Day</td>\n",
       "      <td>OK</td>\n",
       "      <td>1</td>\n",
       "    </tr>\n",
       "  </tbody>\n",
       "</table>\n",
       "</div>"
      ],
      "text/plain": [
       "                                            Filename          Date  \\\n",
       "0  Images24Jul2018\\Images24Jul\\Picture\\A003 - 201...  \"24/07/2018\"   \n",
       "1  Images24Jul2018\\Images24Jul\\Picture\\A004 - 201...  \"24/07/2018\"   \n",
       "2  Images24Jul2018\\Images24Jul\\Picture\\A005 - 201...  \"24/07/2018\"   \n",
       "3  Images24Jul2018\\Images24Jul\\Picture\\A006 - 201...  \"24/07/2018\"   \n",
       "4  Images24Jul2018\\Images24Jul\\Picture\\A007 - 201...  \"24/07/2018\"   \n",
       "\n",
       "                    Line  Collected     Retrieved  TempRoom  Plate  Egg  \\\n",
       "0  A. melanoorus R5km399  \"07/2018\"  \"24/07/2018\"      24.5    1.0  1.0   \n",
       "1  A. melanoorus R5km399  \"07/2018\"  \"24/07/2018\"      24.5    1.0  2.0   \n",
       "2  A. melanoorus R5km399  \"07/2018\"  \"24/07/2018\"      24.5    1.0  3.0   \n",
       "3  A. melanoorus R5km399  \"07/2018\"  \"24/07/2018\"      24.5    1.0  4.0   \n",
       "4  A. melanoorus R5km399  \"07/2018\"  \"24/07/2018\"      24.5    1.0  5.0   \n",
       "\n",
       "   EggNo Stand ViewPoint Light Position State  \n",
       "0    1.0  LEGO    Dorsal   Day       OK     2  \n",
       "1    2.0  LEGO    Dorsal   Day       OK     1  \n",
       "2    3.0  LEGO    Dorsal   Day       OK     1  \n",
       "3    4.0  LEGO    Dorsal   Day       OK     F  \n",
       "4    5.0  LEGO    Dorsal   Day       OK     1  "
      ]
     },
     "execution_count": 3,
     "metadata": {},
     "output_type": "execute_result"
    }
   ],
   "source": [
    "df.head(5)"
   ]
  },
  {
   "cell_type": "code",
   "execution_count": 9,
   "metadata": {},
   "outputs": [],
   "source": [
    "df.dropna(inplace=True)"
   ]
  },
  {
   "cell_type": "code",
   "execution_count": 10,
   "metadata": {},
   "outputs": [],
   "source": [
    "df = df[['Filename','State']]"
   ]
  },
  {
   "cell_type": "code",
   "execution_count": 11,
   "metadata": {},
   "outputs": [],
   "source": [
    "df = df [df['State'].isin([1,3,5])]"
   ]
  },
  {
   "cell_type": "code",
   "execution_count": 12,
   "metadata": {},
   "outputs": [],
   "source": [
    "df.to_csv('Embryos.csv',index=False)"
   ]
  },
  {
   "cell_type": "code",
   "execution_count": 28,
   "metadata": {},
   "outputs": [],
   "source": [
    "state_1 = df[df['State']==1]\n",
    "len(state_1)"
   ]
  },
  {
   "cell_type": "code",
   "execution_count": 30,
   "metadata": {},
   "outputs": [],
   "source": [
    "state_3 = df[df['State']==3]\n",
    "len(state_3)"
   ]
  },
  {
   "cell_type": "code",
   "execution_count": 32,
   "metadata": {},
   "outputs": [],
   "source": [
    "state_5 = df[df['State']==5]\n",
    "len(state_5)"
   ]
  },
  {
   "cell_type": "code",
   "execution_count": 33,
   "metadata": {},
   "outputs": [
    {
     "data": {
      "text/plain": [
       "36"
      ]
     },
     "execution_count": 33,
     "metadata": {},
     "output_type": "execute_result"
    }
   ],
   "source": []
  },
  {
   "cell_type": "code",
   "execution_count": null,
   "metadata": {},
   "outputs": [],
   "source": []
  }
 ],
 "metadata": {
  "kernelspec": {
   "display_name": "Python 3",
   "language": "python",
   "name": "python3"
  },
  "language_info": {
   "codemirror_mode": {
    "name": "ipython",
    "version": 3
   },
   "file_extension": ".py",
   "mimetype": "text/x-python",
   "name": "python",
   "nbconvert_exporter": "python",
   "pygments_lexer": "ipython3",
   "version": "3.7.6"
  }
 },
 "nbformat": 4,
 "nbformat_minor": 4
}
